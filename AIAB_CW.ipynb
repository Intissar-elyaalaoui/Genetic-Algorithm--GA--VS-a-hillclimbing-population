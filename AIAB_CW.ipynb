{
  "nbformat": 4,
  "nbformat_minor": 0,
  "metadata": {
    "colab": {
      "provenance": []
    },
    "kernelspec": {
      "name": "python3",
      "display_name": "Python 3"
    }
  },
  "cells": [
    {
      "cell_type": "markdown",
      "metadata": {
        "id": "Mp7i_jzAKGPy"
      },
      "source": [
        "<h1><center><b> Acquired Intelligence & Adaptive Behaviour </b></center></h1>\n",
        "<h2><center><i> Optimisation Algorithm Challenge </i></center></h2>\n",
        "\n",
        "> _If you find any bugs in this notebook, please contact `kagioulis.efstathios@gmail.com`_\n",
        "\n",
        "This notebook includes the Genetic Algorithm (GA) Challenge, Part 1 of the assignment. You have to deploy your knowledge of GAs from lab 2 to solve a more complex version of the knapsack problem. The goal of this assignment challenge is to simulate a real-life problem where the optimal solution is not known or easy to compute in a limited amount of time.\n",
        "\n",
        "You are given a more complex version of the Knapsack problem from lab 2 with **500** items and your goal is to write a GA that will achieve the best possible fitness value with only **2 minutes** of runtime.\n",
        "When looking for the optimal configurations and hyperparameters of your GA you should always check that your GA satisfies the runtime constraint. In other words make sure your GA implementation does not run more than **2 minutes**.\n",
        "\n",
        "**You are not allowed to use Genetic or Evolutionary algorithm libraries!!**\n",
        "\n",
        "The deliverable for this assignment is only this IPython Jypyter notebook. You should use the notebook and edit the given template to provide your solution. Additionally to the code, you may write up to 1000 words within the notebook (in text boxes not in comments) to explain which GA algorithm you chose and why. Use a quantitative investigation to arrive at the best configuration of GA and its hyperparameters. Use figures to help you explain your choice of algorithm and the choice of hyperparameters."
      ]
    },
    {
      "cell_type": "markdown",
      "source": [
        "# Marking Criteria\n",
        "- Technical : The quality of your code and the algorithms you present. Clarity and organisation of code will contribute to the quality of the code.\n",
        "- The implementation of the following mechanisms is considered essential.\n",
        "    - mutateechanism\n",
        "    - Crossover Mechanism\n",
        "    - Selection Mechanism\n",
        "    - Fitness Function\n",
        "- Analysis : What motivated your choice of GA? How did you find the optimal parameters for your GA implementation? Use figures and text to convince the reader of this notebook that you have done a thorough analysis.\n",
        "- Performance : This just the average and best fitness that your algorithm will accomplish for this task, in other words the average and max fitness within the time limit.\n",
        "- Research : The extent to which you've gone beyond the lecture material and brought in ideas from the course reading, from other sources and your own ideas. This would ,for example, be experimenting with a fitness function or crossover function or other mechanisms inspired by other research papers.\n",
        "\n"
      ],
      "metadata": {
        "id": "Zw0zQ5Nr8FNs"
      }
    },
    {
      "cell_type": "markdown",
      "metadata": {
        "id": "hdXY5i_-1yiR"
      },
      "source": [
        "# Knapsack problem\n",
        "\n",
        "The knapsack (KP) problem is an example of a combinatorial optimization problem, refer to the [wiki](https://en.wikipedia.org/wiki/Knapsack_problem) for a broader overview. \n",
        "\n",
        "<center><img src=\"https://upload.wikimedia.org/wikipedia/commons/thumb/f/fd/Knapsack.svg/250px-Knapsack.svg.png\" width=\"200\"></center>\n",
        "\n",
        "It is concerned with a knapsack that has positive integer volume (or capacity) $V$. For instance, the knapsack may be able to store 20 cubic metres. There are $N$ distinct items that may potentially be placed in the knapsack. Item $i$ has a positive integer\n",
        "volume $Vi$ (e.g this object is 8 cubic metres) and positive integer benefit $Bi$ (e.g how benefical is it to have this object in the knapsack). In the most basic form of the problem we will consider there are only one of each item available (0-1 KP).\n",
        "\n",
        "The goal is to maximize benefit:\n",
        "\n",
        "$$\n",
        "\\sum_i^N B_i\n",
        "$$\n",
        "\n",
        "Subject to the constraint that:\n",
        "\n",
        "$$\n",
        "\\big ( \\sum_i^N V_i \\big) \\leq  V\n",
        "$$\n",
        "\n",
        "For example suppose we have a knapsack that has a capacity of 20 cubic metres ($V$) and $N=10$ items of different sizes and different benefits. We want to include in the knapsack only these\n",
        "items that will have the greatest total benefit within the constraint of the knapsack’s capacity.\n",
        "\n",
        "```\n",
        "item        a b c d e f g  h i j ...\n",
        "Benefit (B) 5 6 1 9 2 8 4  3 7 10 ...\n",
        "Volume (V)  3 2 4 5 8 9 10 1 6 7 ...\n",
        "```\n",
        "\n",
        "The above is just a reiteration of the definition of the kanpasck problem. For the purposes of this challenge the number of items is *500* and the volume limit is set to a percetage of the total volume of the items. \n",
        "\n",
        "Bellow is a example defintion of the 500 item problem.\n"
      ]
    },
    {
      "cell_type": "code",
      "source": [
        "import numpy as np\n",
        "import copy\n",
        "import random\n",
        "import sys\n",
        "import operator\n",
        "\n",
        "\n",
        "max_volume = 5476\n",
        "benefits = np.array([16.206994374857622, 16.206994374857622, 56.53317610041027, 49.4907398745799, 51.22499389946279, 32.87011476165613, 54.30776494511014, 53.82688299849187, 9.404490653110589, 55.67764362830022, 26.12789058968723, 52.82676089508675, 47.609522856952324, 51.22499389946279, 37.18422604635824, 29.05932629027116, 50.08437325598119, 37.18422604635824, 54.30776494511014, 41.71863425909871, 52.82676089508675, 56.94441734416699, 54.776312804390585, 29.05932629027116, 42.536259042531384, 48.25395781119352, 46.946778377222, 54.30776494511014, 26.12789058968723, 29.05932629027116, 57.344960061407704, 32.87011476165613, 50.08437325598119, 54.776312804390585, 27.640549922170507, 26.12789058968723, 44.840457922133965, 40.87378948258488, 37.18422604635824, 9.404490653110589, 31.66491223210111, 30.397368307141324, 34.01960219246153, 32.87011476165613, 46.946778377222, 45.56314299957806, 46.946778377222, 53.82688299849187, 30.397368307141324, 9.404490653110589, 51.22499389946279, 35.11884584284246, 13.2664991614216, 40.87378948258488, 49.4907398745799, 38.157568056677825, 56.11100110000217, 26.12789058968723, 20.816659994661325, 46.26493752772659, 46.26493752772659, 29.05932629027116, 22.744962812309304, 54.30776494511014, 34.01960219246153, 44.09585518440984, 44.840457922133965, 54.30776494511014, 34.01960219246153, 41.71863425909871, 13.2664991614216, 38.157568056677825, 46.26493752772659, 9.404490653110589, 51.773008840943795, 40.87378948258488, 27.640549922170507, 51.22499389946279, 31.66491223210111, 52.82676089508675, 13.2664991614216, 31.66491223210111, 16.206994374857622, 27.640549922170507, 52.306787322488084, 40.0, 40.87378948258488, 40.87378948258488, 53.33333333333333, 48.25395781119352, 36.172426576668094, 48.25395781119352, 9.404490653110589, 47.609522856952324, 32.87011476165613, 51.22499389946279, 36.172426576668094, 54.776312804390585, 32.87011476165613, 46.946778377222, 52.82676089508675, 40.0, 40.0, 36.172426576668094, 40.0, 43.32820482472512, 47.609522856952324, 53.33333333333333, 18.666666666666664, 50.66228051190221, 36.172426576668094, 40.87378948258488, 39.09532509705533, 26.12789058968723, 32.87011476165613, 53.82688299849187, 47.609522856952324, 43.32820482472512, 48.25395781119352, 56.11100110000217, 56.53317610041027, 32.87011476165613, 24.503967932652138, 18.666666666666664, 30.397368307141324, 55.67764362830022, 48.88080741286229, 45.56314299957806, 27.640549922170507, 24.503967932652138, 51.22499389946279, 44.840457922133965, 54.30776494511014, 35.11884584284246, 55.67764362830022, 52.82676089508675, 52.306787322488084, 42.536259042531384, 16.206994374857622, 9.404490653110589, 30.397368307141324, 46.946778377222, 32.87011476165613, 53.82688299849187, 31.66491223210111, 13.2664991614216, 22.744962812309304, 39.09532509705533, 26.12789058968723, 57.344960061407704, 56.11100110000217, 56.11100110000217, 54.30776494511014, 27.640549922170507, 52.82676089508675, 34.01960219246153, 56.94441734416699, 50.08437325598119, 50.08437325598119, 50.66228051190221, 39.09532509705533, 44.09585518440984, 24.503967932652138, 42.536259042531384, 52.82676089508675, 24.503967932652138, 34.01960219246153, 34.01960219246153, 48.88080741286229, 52.306787322488084, 13.2664991614216, 50.08437325598119, 38.157568056677825, 37.18422604635824, 41.71863425909871, 46.946778377222, 56.94441734416699, 55.67764362830022, 22.744962812309304, 29.05932629027116, 46.26493752772659, 53.82688299849187, 32.87011476165613, 13.2664991614216, 42.536259042531384, 57.344960061407704, 51.22499389946279, 49.4907398745799, 48.25395781119352, 46.26493752772659, 37.18422604635824, 44.09585518440984, 40.0, 13.2664991614216, 29.05932629027116, 43.32820482472512, 13.2664991614216, 40.87378948258488, 42.536259042531384, 46.946778377222, 44.840457922133965, 57.344960061407704, 44.09585518440984, 29.05932629027116, 9.404490653110589, 26.12789058968723, 22.744962812309304, 52.306787322488084, 47.609522856952324, 31.66491223210111, 45.56314299957806, 35.11884584284246, 40.0, 51.773008840943795, 48.88080741286229, 44.09585518440984, 42.536259042531384, 56.94441734416699, 49.4907398745799, 55.67764362830022, 47.609522856952324, 51.773008840943795, 49.4907398745799, 42.536259042531384, 9.404490653110589, 18.666666666666664, 26.12789058968723, 55.67764362830022, 40.87378948258488, 46.946778377222, 41.71863425909871, 42.536259042531384, 56.94441734416699, 47.609522856952324, 35.11884584284246, 54.776312804390585, 32.87011476165613, 36.172426576668094, 51.22499389946279, 52.82676089508675, 16.206994374857622, 46.26493752772659, 26.12789058968723, 26.12789058968723, 9.404490653110589, 46.946778377222, 38.157568056677825, 22.744962812309304, 40.0, 56.53317610041027, 55.232840472554614, 26.12789058968723, 56.11100110000217, 30.397368307141324, 48.88080741286229, 56.53317610041027, 26.12789058968723, 56.11100110000217, 57.344960061407704, 47.609522856952324, 56.94441734416699, 56.94441734416699, 52.82676089508675, 45.56314299957806, 16.206994374857622, 56.94441734416699, 52.82676089508675, 49.4907398745799, 43.32820482472512, 39.09532509705533, 45.56314299957806, 26.12789058968723, 47.609522856952324, 44.09585518440984, 37.18422604635824, 40.0, 43.32820482472512, 47.609522856952324, 29.05932629027116, 18.666666666666664, 24.503967932652138, 22.744962812309304, 54.30776494511014, 54.30776494511014, 48.25395781119352, 43.32820482472512, 45.56314299957806, 36.172426576668094, 26.12789058968723, 49.4907398745799, 48.88080741286229, 52.306787322488084, 32.87011476165613, 44.840457922133965, 41.71863425909871, 54.776312804390585, 50.08437325598119, 30.397368307141324, 48.88080741286229, 48.25395781119352, 9.404490653110589, 46.26493752772659, 55.232840472554614, 26.12789058968723, 44.840457922133965, 55.232840472554614, 42.536259042531384, 52.306787322488084, 52.82676089508675, 29.05932629027116, 45.56314299957806, 51.773008840943795, 13.2664991614216, 16.206994374857622, 27.640549922170507, 54.30776494511014, 56.11100110000217, 18.666666666666664, 43.32820482472512, 22.744962812309304, 39.09532509705533, 42.536259042531384, 44.09585518440984, 42.536259042531384, 48.88080741286229, 50.08437325598119, 50.66228051190221, 22.744962812309304, 54.776312804390585, 46.946778377222, 54.30776494511014, 53.82688299849187, 40.87378948258488, 39.09532509705533, 51.773008840943795, 42.536259042531384, 9.404490653110589, 55.67764362830022, 53.33333333333333, 57.344960061407704, 49.4907398745799, 39.09532509705533, 13.2664991614216, 57.344960061407704, 56.11100110000217, 16.206994374857622, 48.88080741286229, 24.503967932652138, 56.11100110000217, 48.25395781119352, 43.32820482472512, 55.232840472554614, 46.946778377222, 34.01960219246153, 56.53317610041027, 9.404490653110589, 49.4907398745799, 36.172426576668094, 32.87011476165613, 22.744962812309304, 9.404490653110589, 18.666666666666664, 29.05932629027116, 52.82676089508675, 41.71863425909871, 46.26493752772659, 20.816659994661325, 9.404490653110589, 32.87011476165613, 46.26493752772659, 54.30776494511014, 43.32820482472512, 54.776312804390585, 20.816659994661325, 13.2664991614216, 32.87011476165613, 41.71863425909871, 29.05932629027116, 18.666666666666664, 48.88080741286229, 31.66491223210111, 56.11100110000217, 13.2664991614216, 24.503967932652138, 9.404490653110589, 52.306787322488084, 50.08437325598119, 51.773008840943795, 56.11100110000217, 38.157568056677825, 32.87011476165613, 50.08437325598119, 55.232840472554614, 42.536259042531384, 32.87011476165613, 13.2664991614216, 56.11100110000217, 49.4907398745799, 53.82688299849187, 35.11884584284246, 54.776312804390585, 47.609522856952324, 51.22499389946279, 43.32820482472512, 30.397368307141324, 18.666666666666664, 9.404490653110589, 56.11100110000217, 48.25395781119352, 32.87011476165613, 48.88080741286229, 31.66491223210111, 52.82676089508675, 52.82676089508675, 40.87378948258488, 31.66491223210111, 47.609522856952324, 42.536259042531384, 22.744962812309304, 56.53317610041027, 50.08437325598119, 50.66228051190221, 54.776312804390585, 42.536259042531384, 20.816659994661325, 48.25395781119352, 26.12789058968723, 46.26493752772659, 36.172426576668094, 56.53317610041027, 54.776312804390585, 41.71863425909871, 37.18422604635824, 24.503967932652138, 46.946778377222, 52.82676089508675, 16.206994374857622, 42.536259042531384, 40.0, 56.11100110000217, 31.66491223210111, 40.0, 54.30776494511014, 57.344960061407704, 54.30776494511014, 44.840457922133965, 22.744962812309304, 9.404490653110589, 18.666666666666664, 36.172426576668094, 35.11884584284246, 32.87011476165613, 13.2664991614216, 32.87011476165613, 54.30776494511014, 52.82676089508675, 56.94441734416699, 35.11884584284246, 56.11100110000217, 56.94441734416699, 50.08437325598119, 39.09532509705533, 38.157568056677825, 46.946778377222, 48.88080741286229, 24.503967932652138, 54.776312804390585, 18.666666666666664, 20.816659994661325, 46.26493752772659, 55.232840472554614, 48.25395781119352, 40.0, 56.11100110000217, 30.397368307141324, 9.404490653110589, 56.53317610041027, 51.773008840943795, 13.2664991614216, 50.08437325598119, 24.503967932652138, 31.66491223210111, 26.12789058968723, 46.26493752772659, 55.232840472554614, 55.67764362830022, 53.82688299849187, 39.09532509705533, 39.09532509705533, 49.4907398745799, 26.12789058968723, 54.30776494511014, 44.840457922133965, 50.08437325598119, 44.09585518440984, 57.344960061407704, 20.816659994661325, 54.776312804390585, 9.404490653110589, 45.56314299957806])\n",
        "volumes = np.array([3, 3, 47, 33, 36, 13, 42, 41, 1, 45, 8, 39, 30, 36, 17, 10, 34, 17, 42, 22, 39, 48, 43, 10, 23, 31, 29, 42, 8, 10, 49, 13, 34, 43, 9, 8, 26, 21, 17, 1, 12, 11, 14, 13, 29, 27, 29, 41, 11, 1, 36, 15, 2, 21, 33, 18, 46, 8, 5, 28, 28, 10, 6, 42, 14, 25, 26, 42, 14, 22, 2, 18, 28, 1, 37, 21, 9, 36, 12, 39, 2, 12, 3, 9, 38, 20, 21, 21, 40, 31, 16, 31, 1, 30, 13, 36, 16, 43, 13, 29, 39, 20, 20, 16, 20, 24, 30, 40, 4, 35, 16, 21, 19, 8, 13, 41, 30, 24, 31, 46, 47, 13, 7, 4, 11, 45, 32, 27, 9, 7, 36, 26, 42, 15, 45, 39, 38, 23, 3, 1, 11, 29, 13, 41, 12, 2, 6, 19, 8, 49, 46, 46, 42, 9, 39, 14, 48, 34, 34, 35, 19, 25, 7, 23, 39, 7, 14, 14, 32, 38, 2, 34, 18, 17, 22, 29, 48, 45, 6, 10, 28, 41, 13, 2, 23, 49, 36, 33, 31, 28, 17, 25, 20, 2, 10, 24, 2, 21, 23, 29, 26, 49, 25, 10, 1, 8, 6, 38, 30, 12, 27, 15, 20, 37, 32, 25, 23, 48, 33, 45, 30, 37, 33, 23, 1, 4, 8, 45, 21, 29, 22, 23, 48, 30, 15, 43, 13, 16, 36, 39, 3, 28, 8, 8, 1, 29, 18, 6, 20, 47, 44, 8, 46, 11, 32, 47, 8, 46, 49, 30, 48, 48, 39, 27, 3, 48, 39, 33, 24, 19, 27, 8, 30, 25, 17, 20, 24, 30, 10, 4, 7, 6, 42, 42, 31, 24, 27, 16, 8, 33, 32, 38, 13, 26, 22, 43, 34, 11, 32, 31, 1, 28, 44, 8, 26, 44, 23, 38, 39, 10, 27, 37, 2, 3, 9, 42, 46, 4, 24, 6, 19, 23, 25, 23, 32, 34, 35, 6, 43, 29, 42, 41, 21, 19, 37, 23, 1, 45, 40, 49, 33, 19, 2, 49, 46, 3, 32, 7, 46, 31, 24, 44, 29, 14, 47, 1, 33, 16, 13, 6, 1, 4, 10, 39, 22, 28, 5, 1, 13, 28, 42, 24, 43, 5, 2, 13, 22, 10, 4, 32, 12, 46, 2, 7, 1, 38, 34, 37, 46, 18, 13, 34, 44, 23, 13, 2, 46, 33, 41, 15, 43, 30, 36, 24, 11, 4, 1, 46, 31, 13, 32, 12, 39, 39, 21, 12, 30, 23, 6, 47, 34, 35, 43, 23, 5, 31, 8, 28, 16, 47, 43, 22, 17, 7, 29, 39, 3, 23, 20, 46, 12, 20, 42, 49, 42, 26, 6, 1, 4, 16, 15, 13, 2, 13, 42, 39, 48, 15, 46, 48, 34, 19, 18, 29, 32, 7, 43, 4, 5, 28, 44, 31, 20, 46, 11, 1, 47, 37, 2, 34, 7, 12, 8, 28, 44, 45, 41, 19, 19, 33, 8, 42, 26, 34, 25, 49, 5, 43, 1, 27])\n",
        "opt = [0, 1, 1, 1, 0]"
      ],
      "metadata": {
        "id": "nSRK37vxzzwG"
      },
      "execution_count": 24,
      "outputs": []
    },
    {
      "cell_type": "markdown",
      "source": [
        "#Fitness function\n",
        "\n",
        "You can use whatever fitness function you please for optimising the Knapsack.\n",
        "However the function bellow that calculates the total benefit will be the one used to evaluate your genotype solution.\n",
        "If you wish to modify the fitness function for your GA implementtion make sure you define a new function so you can also use this one to evaluate your solutions at the end."
      ],
      "metadata": {
        "id": "OXIvGl5Vy-l2"
      }
    },
    {
      "cell_type": "code",
      "source": [
        "def fitness_function(genotype, benefits, volumes, max_volume):\n",
        "  vol = 0\n",
        "  ben = 0\n",
        "  # iterate all nonzero elements\n",
        "  for i in np.nonzero(genotype)[0]:  \n",
        "      ben += benefits[i]\n",
        "      vol += volumes[i]\n",
        "  if vol > max_volume:\n",
        "    return 0\n",
        "  else:\n",
        "    return ben"
      ],
      "metadata": {
        "id": "KrkY59q_zxDe"
      },
      "execution_count": 25,
      "outputs": []
    },
    {
      "cell_type": "markdown",
      "source": [
        "#GA Class Template\n",
        "\n",
        "For the purpose of the challenge you must use the below template for your code.\n",
        "The most important thing is that you use a class called `GA` and make sure it has a function called  `evolve()`.\n",
        "This function will be called to evaluate your solution. You can off course change the arguments of the object constructor to accomodate your parameters such as mutate rate, recombination rate etc.\n",
        "\n",
        "\n",
        "*   The `initalise_pop()` function can be used to change the method by which the population is initialised. \n",
        "Note here that the function uses the `self.pop_size` and `self.num_items` variables to generate the population matrix.\n",
        "If you wish to change this function you can, but make sure the population is initalised during the construction of the object.\n",
        "*   The `evolve()` function is the function that the evaluation code will call to evolve the population and return the best genotype at the end. \n"
      ],
      "metadata": {
        "id": "84BJB8NJ3u9Z"
      }
    },
    {
      "cell_type": "code",
      "source": [
        "class GA:\n",
        "  def __init__(self, pop_size: int, generations: int):\n",
        "    self.benefits = benefits\n",
        "    self.volumes = volumes\n",
        "    self.max_vol = max_volume\n",
        "    self.pop_size = pop_size\n",
        "    self.generations = generations\n",
        "    self.num_items = len(self.benefits)\n",
        "    assert len(self.benefits) == len(self.volumes), \"The benefits and volumes arrays should be equal size\"\n",
        "    self.genotype_len = len(self.benefits)\n",
        "    # initialise the population\n",
        "    self.pop = self.initialise_pop()\n",
        "\n",
        "  def initialise_pop(self):\n",
        "    pop = np.random.choice([0, 1], (self.pop_size, self.num_items))\n",
        "    return np.squeeze(pop)\n",
        "  \n",
        "  def evolve(self):\n",
        "    '''\n",
        "    The function that the assignemnt evaluation code is going to call.\n",
        "    It takes no arguments! All the hyperparameter of the GA class should be in the constructor!\n",
        "    returns: 1D numpy array cotaining 1s and 0s. I.e. [1 1 1 0 1 0 1 1 1 0]\n",
        "    '''\n",
        "    pass\n",
        "    ######\n",
        "    # Your code goes in here\n",
        "    # here you can call any other function you like\n",
        "    # you can also create more functions within this class\n",
        "    # The main loop of you algorithm would probaly need to be in here\n",
        "    # This function should return a single genotype\n",
        "    ######\n",
        "import random\n",
        "import numpy as np\n",
        "\n",
        "def __init__(self, mutation_rate, crossover_rate, tournament_size, num_items):\n",
        "    self.mutation_rate = mutation_rate\n",
        "    self.crossover_rate = crossover_rate\n",
        "    self.tournament_size = tournament_size\n",
        "    self.num_items = num_items\n",
        "    self.population = self._create_population()\n",
        "    self.best_fitnesses = []\n",
        "\n",
        "def _create_population(self):\n",
        "    return [[random.randint(0, 1) for _ in range(self.num_items)] for _ in range(self.tournament_size)]\n",
        "\n",
        "def mutate(self, parent):\n",
        "    return [gene if random.random() > self.mutation_rate else 1 - gene for gene in parent]\n",
        "\n",
        "def crossover(self, parent1, parent2):\n",
        "    if random.random() < self.crossover_rate:\n",
        "        point = random.randint(0, self.num_items)\n",
        "        return parent1[:point] + parent2[point:], parent2[:point] + parent1[point:]\n",
        "    else:\n",
        "        return parent1, parent2\n",
        "\n",
        "def select(self):\n",
        "    selected = random.sample(self.population, self.tournament_size)\n",
        "    return max(selected, key=self.fitness)\n",
        "\n",
        "def fitness(self, parent):\n",
        "    return sum(parent)\n",
        "\n",
        "def run(self, generations):\n",
        "    for _ in range(generations):\n",
        "        parent1 = self.select()\n",
        "        parent2 = self.select()\n",
        "        child1, child2 = self.crossover(parent1, parent2)\n",
        "        self.population.append(self.mutate(child1))\n",
        "        self.population.append(self.mutate(child2))\n",
        "        self.population.sort(key=self.fitness, reverse=True)\n",
        "        self.population = self.population[:self.tournament_size]\n",
        "        self.best_fitnesses.append(self.fitness(self.population[0]))\n"
      ],
      "metadata": {
        "id": "1oihx9qv4gvV"
      },
      "execution_count": 26,
      "outputs": []
    },
    {
      "cell_type": "markdown",
      "source": [
        "#For example lets see how you would implement a random (hill)parent"
      ],
      "metadata": {
        "id": "JpnPDxke6d8J"
      }
    },
    {
      "cell_type": "code",
      "source": [
        "class GA:\n",
        "    def __init__(self, population, pop_size, generations):\n",
        "      self.benefits = benefits\n",
        "      self.volumes = volumes\n",
        "      self.max_vol = max_volume\n",
        "      self.pop_size = pop_size\n",
        "      self.generations = generations\n",
        "      self.population = population  \n",
        "      assert len(self.benefits) == len(self.volumes), \"The benefits and volumes arrays should be equal size\"\n",
        "      self.num_items = len(self.benefits)\n",
        "      self.parent = self.initialise_pop()\n",
        "      self.parent_fit = None\n",
        "    \n",
        "    #def initialise_pop(self):\n",
        "      # In this case the population is only 1 hillparent\n",
        "      #pop = np.random.choice([0, 1], (self.pop_size, self.num_items))\n",
        "      #return np.squeeze(pop)\n",
        "\n",
        "    def evolve(self):\n",
        "      '''\n",
        "      The function that the assignemnt evaluation code is going to call.\n",
        "      It takes no arguments! All the hyperparameter of the GA class should be in the constructor!\n",
        "      returns: 1D numpy array cotaining 1s and 0s. I.e. [1 1 1 0 1 0 1 1 1 0]\n",
        "      '''\n",
        "      self.parent_fit = fitness_function(self.parent, self.benefits, self.volumes, self.max_vol)\n",
        "      #for every generation\n",
        "      for i in range(self.generations):\n",
        "          # copy the parent and mutate\n",
        "          new_parent = self.mutate(copy.deepcopy(self.parent))\n",
        "          self.parent = new_parent\n",
        "          self.parent_fit = fitness_function(new_parent, self.benefits, self.volumes, self.max_vol)\n",
        "      \n",
        "      return self.parent\n",
        "\n",
        "    def initialise_pop(self):\n",
        "            parents = []\n",
        "            for _ in range(self.population):\n",
        "                parent = []\n",
        "                for _ in range(self.num_items):\n",
        "                    k = random.randint(0, 1)\n",
        "                    parent.append(k)\n",
        "                parents.append(parent)\n",
        "            return parents\n",
        "\n",
        "    def get_parent(self):\n",
        "        return self.parent\n",
        "    # set the details of this problem\n",
        "    def properties(self, volumes, benefits, fitness, max_volume, population):\n",
        "        self.volumes = volumes\n",
        "        self.benefits = benefits\n",
        "        self.fitness = fitness\n",
        "        self.max_vol = max_volume\n",
        "        self.population = population\n",
        "        self.initialize()\n",
        "\n",
        "    # calculate the fitness function\n",
        "    def fitness(self, item):\n",
        "            vol = 0\n",
        "            ben = 0\n",
        "            for index, i in enumerate(item):\n",
        "                    if i == 0:\n",
        "                            continue\n",
        "                    else:\n",
        "                            vol += self.volumes[i]\n",
        "                            ben += self.benefits[i]\n",
        "            if vol > self.max_vol:\n",
        "                  return -1\n",
        "            else:\n",
        "                  return ben\n",
        "\n",
        "\n",
        "    def evaluation(self):\n",
        "\n",
        "        # loop through parents and calculate fitness\n",
        "        best_pop = self.population // 2\n",
        "        for i in range(len(self.parents)):\n",
        "          parent = self.parents[i]\n",
        "          ft = self.fitness(parent)\n",
        "          self.bests.append((ft, parent))\n",
        "\n",
        "        # sort the fitness list by fitness    \n",
        "        self.bests.sort(key=operator.itemgetter(0), reverse=True)\n",
        "        self.best_p = self.bests[:best_pop]\n",
        "        self.best_p = [x[1] for x in self.best_p]\n",
        "\n",
        "    # mutate children after certain condition\n",
        "    def mutate(self, ch):\n",
        "\n",
        "      for i in range(len(ch)):\t\t\n",
        "        k = random.uniform(0, 1)\n",
        "        if k > 0.5:\n",
        "\n",
        "          if ch[i] == 1:\n",
        "            ch[i] = 0\n",
        "          else: \n",
        "            ch[i] = 1\n",
        "      return ch\n",
        "\n",
        "    # crossover two parents to produce two children by mixing them under random ration each time\n",
        "    def crossover(self, ch1, ch2):\n",
        "\n",
        "        threshold = random.randint(1, len(ch1)-1)\n",
        "        tmp1 = ch1[threshold:]\n",
        "        tmp2 = ch2[threshold:]\n",
        "        ch1 = ch1[:threshold]\n",
        "        ch2 = ch2[:threshold]\n",
        "        ch1.extend(tmp2)\n",
        "        ch2.extend(tmp1)\n",
        "\n",
        "        return ch1, ch2\n",
        "\n",
        "    def run(self):\n",
        "\n",
        "        # run the evaluation once\n",
        "        self.evaluation()\n",
        "        newparents = []\n",
        "        pop = len(self.best_p)-1\n",
        "\n",
        "        # create a list with unique random integers\n",
        "        sample = random.sample(range(pop), pop)\n",
        "        for i in range(0, pop):\n",
        "          # select the random index of best children to randomize the process\n",
        "          if i < pop-1:\n",
        "            r1 = self.best_p[i]\n",
        "            r2 = self.best_p[i+1]\n",
        "            nchild1, nchild2 = self.crossover(r1, r2)\n",
        "            newparents.append(nchild1)\n",
        "            newparents.append(nchild2)\n",
        "          else:\n",
        "            r1 = self.best_p[i]\n",
        "            r2 = self.best_p[0]\n",
        "            nchild1, nchild2 = self.crossover(r1, r2)\n",
        "            newparents.append(nchild1)\n",
        "            newparents.append(nchild2)\n",
        "\n",
        "\n",
        "        for i in range(len(newparents)):\n",
        "          newparents[i] = self.mutate(newparents[i])\n",
        "\n",
        "        if self.fitness in newparents:\n",
        "          print (\"optimal found in {} generations\" .format(self.iterated))\n",
        "        else:\n",
        "          self.iterated += 1\n",
        "          print(\"recreate generations for {} time\" .format(self.iterated))\n",
        "          self.parents = newparents\n",
        "          self.bests = []\n",
        "          self.best_p = []\n",
        "          self.run()\n",
        "          "
      ],
      "metadata": {
        "id": "xu9lZHhG6dS5"
      },
      "execution_count": 27,
      "outputs": []
    },
    {
      "cell_type": "markdown",
      "source": [
        "#Submit your GA configuration and check that it works\n",
        "In order to submit your code you must create a list of all your constructor arguments in the correct order. See the example bellow for the hillparent example code.\n",
        "\n",
        "**Before setting your parameters and submitting your GA configuration make sure it runs under the 2 minutes constraint!!**"
      ],
      "metadata": {
        "id": "3HsZe7uuP7VB"
      }
    },
    {
      "cell_type": "code",
      "source": [
        "## Place your arguments in a list called args in the same order they are defined in the class constructor.\n",
        "pop_size = 1\n",
        "generations = 1000\n",
        "population =100\n",
        "# Notice here we place the arguments of the GA constructor in a list in the same order that they\n",
        "# are defined in the GA class constructor\n",
        "args = [pop_size, generations, population]\n",
        "\n",
        "# The code below should run without problem if everything is set up correctly.\n",
        "# Make sure to ask the TAs for help if this code is not running\n",
        "ga = GA(*args)\n",
        "parent = ga.get_parent()\n",
        "print(parent)\n",
        "best_parent = ga.get_parent()\n",
        "print(best_parent, ga.run)\n"
      ],
      "metadata": {
        "colab": {
          "base_uri": "https://localhost:8080/"
        },
        "id": "vfiNeCZWBCzj",
        "outputId": "d0a17ba3-2a83-4b66-eeaf-2428079a9d95"
      },
      "execution_count": 28,
      "outputs": [
        {
          "output_type": "stream",
          "name": "stdout",
          "text": [
            "[[0, 0, 1, 0, 1, 0, 1, 0, 0, 0, 1, 0, 0, 1, 1, 0, 1, 1, 1, 1, 0, 1, 0, 0, 0, 1, 0, 1, 1, 0, 1, 1, 1, 0, 0, 1, 1, 1, 1, 1, 0, 0, 1, 0, 1, 0, 0, 0, 0, 0, 1, 0, 1, 0, 1, 0, 0, 1, 1, 1, 1, 0, 1, 1, 1, 1, 0, 1, 1, 0, 0, 0, 1, 1, 0, 1, 0, 0, 1, 0, 0, 1, 0, 0, 0, 1, 1, 0, 1, 0, 1, 0, 0, 1, 0, 1, 0, 0, 0, 1, 0, 0, 0, 0, 1, 0, 1, 0, 0, 1, 1, 1, 0, 1, 1, 1, 1, 1, 1, 1, 0, 1, 1, 0, 0, 0, 1, 1, 0, 0, 0, 1, 1, 1, 0, 1, 1, 0, 1, 1, 0, 1, 1, 0, 1, 1, 0, 0, 0, 1, 1, 0, 0, 1, 0, 0, 1, 1, 0, 0, 1, 0, 1, 0, 1, 0, 1, 1, 0, 0, 1, 0, 1, 0, 1, 1, 1, 0, 1, 0, 1, 0, 0, 1, 0, 0, 1, 1, 0, 0, 1, 0, 1, 1, 1, 1, 0, 1, 1, 1, 0, 0, 1, 0, 0, 1, 1, 0, 0, 1, 0, 0, 1, 0, 1, 0, 0, 1, 0, 0, 0, 0, 0, 0, 0, 1, 1, 1, 1, 1, 1, 1, 0, 0, 0, 0, 1, 1, 0, 1, 1, 0, 0, 1, 0, 0, 1, 0, 0, 0, 1, 1, 0, 1, 1, 1, 0, 0, 1, 1, 0, 0, 0, 0, 0, 1, 0, 1, 1, 1, 0, 1, 0, 1, 1, 1, 0, 0, 0, 1, 0, 0, 1, 1, 1, 1, 1, 1, 1, 1, 0, 1, 1, 1, 1, 1, 1, 1, 1, 1, 0, 0, 0, 0, 0, 0, 0, 0, 1, 1, 0, 0, 0, 0, 1, 1, 0, 0, 1, 0, 1, 1, 1, 0, 0, 0, 1, 0, 1, 0, 1, 0, 0, 1, 0, 0, 1, 0, 0, 1, 0, 0, 1, 0, 1, 1, 1, 0, 1, 0, 1, 1, 0, 1, 0, 1, 0, 1, 1, 1, 1, 1, 0, 1, 0, 0, 1, 0, 1, 0, 0, 1, 0, 1, 1, 0, 0, 0, 1, 0, 0, 0, 1, 0, 1, 0, 0, 0, 1, 0, 1, 1, 0, 1, 1, 0, 1, 0, 0, 1, 0, 1, 0, 0, 1, 0, 1, 0, 0, 0, 1, 0, 0, 0, 1, 1, 1, 0, 0, 1, 0, 0, 1, 0, 0, 0, 1, 1, 0, 0, 0, 0, 1, 1, 0, 1, 1, 1, 1, 1, 1, 1, 1, 0, 0, 0, 1, 1, 1, 1, 0, 1, 1, 1, 1, 0, 1, 0, 1, 1, 0, 0, 0, 0, 1, 0, 1, 0, 1, 0, 1, 1, 1, 0, 1, 1, 0, 0, 0, 1, 0, 1, 0, 1, 1, 1, 0, 0, 0, 0, 1, 0, 0, 0, 1, 0, 1, 0, 1, 0]]\n",
            "[[0, 0, 1, 0, 1, 0, 1, 0, 0, 0, 1, 0, 0, 1, 1, 0, 1, 1, 1, 1, 0, 1, 0, 0, 0, 1, 0, 1, 1, 0, 1, 1, 1, 0, 0, 1, 1, 1, 1, 1, 0, 0, 1, 0, 1, 0, 0, 0, 0, 0, 1, 0, 1, 0, 1, 0, 0, 1, 1, 1, 1, 0, 1, 1, 1, 1, 0, 1, 1, 0, 0, 0, 1, 1, 0, 1, 0, 0, 1, 0, 0, 1, 0, 0, 0, 1, 1, 0, 1, 0, 1, 0, 0, 1, 0, 1, 0, 0, 0, 1, 0, 0, 0, 0, 1, 0, 1, 0, 0, 1, 1, 1, 0, 1, 1, 1, 1, 1, 1, 1, 0, 1, 1, 0, 0, 0, 1, 1, 0, 0, 0, 1, 1, 1, 0, 1, 1, 0, 1, 1, 0, 1, 1, 0, 1, 1, 0, 0, 0, 1, 1, 0, 0, 1, 0, 0, 1, 1, 0, 0, 1, 0, 1, 0, 1, 0, 1, 1, 0, 0, 1, 0, 1, 0, 1, 1, 1, 0, 1, 0, 1, 0, 0, 1, 0, 0, 1, 1, 0, 0, 1, 0, 1, 1, 1, 1, 0, 1, 1, 1, 0, 0, 1, 0, 0, 1, 1, 0, 0, 1, 0, 0, 1, 0, 1, 0, 0, 1, 0, 0, 0, 0, 0, 0, 0, 1, 1, 1, 1, 1, 1, 1, 0, 0, 0, 0, 1, 1, 0, 1, 1, 0, 0, 1, 0, 0, 1, 0, 0, 0, 1, 1, 0, 1, 1, 1, 0, 0, 1, 1, 0, 0, 0, 0, 0, 1, 0, 1, 1, 1, 0, 1, 0, 1, 1, 1, 0, 0, 0, 1, 0, 0, 1, 1, 1, 1, 1, 1, 1, 1, 0, 1, 1, 1, 1, 1, 1, 1, 1, 1, 0, 0, 0, 0, 0, 0, 0, 0, 1, 1, 0, 0, 0, 0, 1, 1, 0, 0, 1, 0, 1, 1, 1, 0, 0, 0, 1, 0, 1, 0, 1, 0, 0, 1, 0, 0, 1, 0, 0, 1, 0, 0, 1, 0, 1, 1, 1, 0, 1, 0, 1, 1, 0, 1, 0, 1, 0, 1, 1, 1, 1, 1, 0, 1, 0, 0, 1, 0, 1, 0, 0, 1, 0, 1, 1, 0, 0, 0, 1, 0, 0, 0, 1, 0, 1, 0, 0, 0, 1, 0, 1, 1, 0, 1, 1, 0, 1, 0, 0, 1, 0, 1, 0, 0, 1, 0, 1, 0, 0, 0, 1, 0, 0, 0, 1, 1, 1, 0, 0, 1, 0, 0, 1, 0, 0, 0, 1, 1, 0, 0, 0, 0, 1, 1, 0, 1, 1, 1, 1, 1, 1, 1, 1, 0, 0, 0, 1, 1, 1, 1, 0, 1, 1, 1, 1, 0, 1, 0, 1, 1, 0, 0, 0, 0, 1, 0, 1, 0, 1, 0, 1, 1, 1, 0, 1, 1, 0, 0, 0, 1, 0, 1, 0, 1, 1, 1, 0, 0, 0, 0, 1, 0, 0, 0, 1, 0, 1, 0, 1, 0]] <bound method GA.run of <__main__.GA object at 0x7fd537413490>>\n"
          ]
        }
      ]
    },
    {
      "cell_type": "markdown",
      "source": [
        "#Solution Evaluation\n",
        "\n",
        "### Students should not modify these parameters!!\n",
        "### Parameters may only be modfied by the Lecturer or TAs."
      ],
      "metadata": {
        "id": "qBUDEYMLB9ao"
      }
    },
    {
      "cell_type": "markdown",
      "source": [
        "## Problem sampling"
      ],
      "metadata": {
        "id": "a8UDmiccMEgk"
      }
    },
    {
      "cell_type": "code",
      "source": [
        "import time\n",
        "# the problem generation function\n",
        "def circ(no_of_items: int, R=50, d=2/3, max_vol_perc=.45):\n",
        "  vol = np.random.randint(1, R, no_of_items)\n",
        "  ben = d*np.sqrt(4*R**2-(vol-2*R)**2)\n",
        "  max_vol = int(round(np.sum(vol)*max_vol_perc))\n",
        "  return ben, vol, max_vol"
      ],
      "metadata": {
        "id": "6zdHWs_4cpke"
      },
      "execution_count": 29,
      "outputs": []
    },
    {
      "cell_type": "markdown",
      "source": [
        "## Standard fitness function"
      ],
      "metadata": {
        "id": "M34dUv3Funqk"
      }
    },
    {
      "cell_type": "code",
      "source": [
        "def fitness_function(genotype, benefits, volumes, max_volume):\n",
        "  vol = 0\n",
        "  ben = 0\n",
        "  # iterate all nonzero elements\n",
        "  for i in np.nonzero(genotype)[0]:  \n",
        "      ben += benefits[i]\n",
        "      vol += volumes[i]\n",
        "  if vol > max_volume:\n",
        "    return 0\n",
        "  else:\n",
        "    return ben"
      ],
      "metadata": {
        "id": "xJP1f3c3um6O"
      },
      "execution_count": 30,
      "outputs": []
    },
    {
      "cell_type": "markdown",
      "source": [
        "## Setting the evaluation parameters."
      ],
      "metadata": {
        "id": "t2r1OEq_MBYi"
      }
    },
    {
      "cell_type": "code",
      "source": [
        "# Evaluation parameters\n",
        "# The evaluations code uses these as global variables\n",
        "# Do not change the signatures!\n",
        "# seed to be selected by Lecturer\n",
        "np.random.seed(None) \n",
        "number_of_items = 500\n",
        "repeats = 3 # Number of evaluations\n",
        "max_time = 120 # in seconds\n",
        "\n",
        "# problem generator\n",
        "benefits, volumes, max_volume = circ(number_of_items)\n",
        "\n",
        "# log variables\n",
        "time_complexities = []\n",
        "best_gntps = []"
      ],
      "metadata": {
        "id": "_2XbcbgnFAQF"
      },
      "execution_count": 31,
      "outputs": []
    },
    {
      "cell_type": "code",
      "source": [
        "for i in range(repeats):\n",
        "  tic = time.perf_counter()\n",
        "  ga = GA(*args)\n",
        "  gntp = ga.evolve()\n",
        "  toc = time.perf_counter()\n",
        "  time_complexities.append(toc-tic)\n",
        "  best_gntps.append(gntp)\n",
        "\n",
        "mean_time = np.mean(time_complexities)\n",
        "if mean_time > max_time:\n",
        "  print(f'Took more than {max_time} seconds to run')\n",
        "else:\n",
        "  best_fits = []\n",
        "  for g in best_gntps:\n",
        "    best_fits.append(fitness_function(g, benefits, volumes, max_volume))\n",
        "  mean_fitness = np.mean(best_fits)\n",
        "  max_fitness = np.max(best_fits)\n",
        "  print(f'Evaluation was repreated {repeats} times. Max fitness: {max_fitness}\\\n",
        "  Average fitness: {mean_fitness}, with average runtime of {mean_time} seconds.')"
      ],
      "metadata": {
        "id": "Vv3i4c5BBCsj",
        "colab": {
          "base_uri": "https://localhost:8080/"
        },
        "outputId": "ab446837-c6b4-4b7c-8686-c836bbc530e0"
      },
      "execution_count": 32,
      "outputs": [
        {
          "output_type": "stream",
          "name": "stdout",
          "text": [
            "Evaluation was repreated 3 times. Max fitness: 22.744962812309304  Average fitness: 7.581654270769768, with average runtime of 0.003986806333349098 seconds.\n"
          ]
        }
      ]
    },
    {
      "cell_type": "code",
      "source": [],
      "metadata": {
        "id": "SxWzU-yhvptA"
      },
      "execution_count": 32,
      "outputs": []
    }
  ]
}